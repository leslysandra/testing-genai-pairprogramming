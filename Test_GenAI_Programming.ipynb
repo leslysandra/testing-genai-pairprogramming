{
  "nbformat": 4,
  "nbformat_minor": 0,
  "metadata": {
    "colab": {
      "provenance": []
    },
    "kernelspec": {
      "name": "python3",
      "display_name": "Python 3"
    },
    "language_info": {
      "name": "python"
    }
  },
  "cells": [
    {
      "cell_type": "markdown",
      "source": [
        "### Bienvenid@s!!!\n",
        "En este notebook encontrarán algunas guías para aprender a utilizar las APIs PALM/GEMINI de Google GenAI para aplicarla a un asistente de programación :D"
      ],
      "metadata": {
        "id": "XodeWlB57xL8"
      }
    },
    {
      "cell_type": "code",
      "source": [
        "### Install GenAI de Google\n",
        "!pip install -q google.generativeai"
      ],
      "metadata": {
        "id": "rKViV_rJ75p1"
      },
      "execution_count": 1,
      "outputs": []
    },
    {
      "cell_type": "code",
      "source": [
        "from getpass import getpass\n",
        "\n",
        "# leer la API KEY (guárdala bien)\n",
        "GOOGLE_API_KEY = getpass('Enter API key: ')"
      ],
      "metadata": {
        "colab": {
          "base_uri": "https://localhost:8080/"
        },
        "id": "BtYK3PxU79y_",
        "outputId": "fd8f6ed8-f535-495e-9c03-a346f031a9ee"
      },
      "execution_count": 2,
      "outputs": [
        {
          "name": "stdout",
          "output_type": "stream",
          "text": [
            "Enter API key: ··········\n"
          ]
        }
      ]
    },
    {
      "cell_type": "code",
      "source": [
        "import os\n",
        "import google.generativeai as palm\n",
        "from google.api_core import client_options as client_options_lib\n",
        "\n",
        "palm.configure(\n",
        "    api_key = GOOGLE_API_KEY,\n",
        "    transport = \"rest\",\n",
        "    client_options = client_options_lib.ClientOptions(\n",
        "        api_endpoint = os.getenv(\"GOOGLE_API_BASE\"),\n",
        "    )\n",
        ")"
      ],
      "metadata": {
        "id": "HpEqH4P28hTg"
      },
      "execution_count": 3,
      "outputs": []
    },
    {
      "cell_type": "code",
      "source": [
        "# exploramos los modelos que tiene\n",
        "models = [m for m in palm.list_models()\n",
        "          if 'generateText'\n",
        "          in m.supported_generation_methods]\n",
        "models"
      ],
      "metadata": {
        "colab": {
          "base_uri": "https://localhost:8080/"
        },
        "id": "sK-e0Kjd8jAh",
        "outputId": "f73c0fd5-b62c-4e07-f5d2-2d15ffeab9b6"
      },
      "execution_count": 4,
      "outputs": [
        {
          "output_type": "execute_result",
          "data": {
            "text/plain": [
              "[Model(name='models/text-bison-001',\n",
              "       base_model_id='',\n",
              "       version='001',\n",
              "       display_name='PaLM 2 (Legacy)',\n",
              "       description='A legacy model that understands text and generates text as an output',\n",
              "       input_token_limit=8196,\n",
              "       output_token_limit=1024,\n",
              "       supported_generation_methods=['generateText', 'countTextTokens', 'createTunedTextModel'],\n",
              "       temperature=0.7,\n",
              "       top_p=0.95,\n",
              "       top_k=40)]"
            ]
          },
          "metadata": {},
          "execution_count": 4
        }
      ]
    },
    {
      "cell_type": "code",
      "source": [
        "model_bison = models[0]\n",
        "model_bison"
      ],
      "metadata": {
        "colab": {
          "base_uri": "https://localhost:8080/"
        },
        "id": "NPFocBMY8lcH",
        "outputId": "80b9c82d-6f28-4f8a-e7c7-1e2800e3e5e6"
      },
      "execution_count": 5,
      "outputs": [
        {
          "output_type": "execute_result",
          "data": {
            "text/plain": [
              "Model(name='models/text-bison-001',\n",
              "      base_model_id='',\n",
              "      version='001',\n",
              "      display_name='PaLM 2 (Legacy)',\n",
              "      description='A legacy model that understands text and generates text as an output',\n",
              "      input_token_limit=8196,\n",
              "      output_token_limit=1024,\n",
              "      supported_generation_methods=['generateText', 'countTextTokens', 'createTunedTextModel'],\n",
              "      temperature=0.7,\n",
              "      top_p=0.95,\n",
              "      top_k=40)"
            ]
          },
          "metadata": {},
          "execution_count": 5
        }
      ]
    },
    {
      "cell_type": "code",
      "source": [
        "for m in palm.list_models():\n",
        "    print(f\"name: {m.name}\")\n",
        "    print(f\"description: {m.description}\")\n",
        "    print(f\"generation methods:{m.supported_generation_methods}\\n\")"
      ],
      "metadata": {
        "colab": {
          "base_uri": "https://localhost:8080/"
        },
        "id": "FAKPrVhB8wLa",
        "outputId": "d204a597-c4ab-4f30-b1f4-43683d8b584b"
      },
      "execution_count": 6,
      "outputs": [
        {
          "output_type": "stream",
          "name": "stdout",
          "text": [
            "name: models/chat-bison-001\n",
            "description: A legacy text-only model optimized for chat conversations\n",
            "generation methods:['generateMessage', 'countMessageTokens']\n",
            "\n",
            "name: models/text-bison-001\n",
            "description: A legacy model that understands text and generates text as an output\n",
            "generation methods:['generateText', 'countTextTokens', 'createTunedTextModel']\n",
            "\n",
            "name: models/embedding-gecko-001\n",
            "description: Obtain a distributed representation of a text.\n",
            "generation methods:['embedText', 'countTextTokens']\n",
            "\n",
            "name: models/gemini-pro\n",
            "description: The best model for scaling across a wide range of tasks\n",
            "generation methods:['generateContent', 'countTokens']\n",
            "\n",
            "name: models/gemini-pro-vision\n",
            "description: The best image understanding model to handle a broad range of applications\n",
            "generation methods:['generateContent', 'countTokens']\n",
            "\n",
            "name: models/embedding-001\n",
            "description: Obtain a distributed representation of a text.\n",
            "generation methods:['embedContent', 'countTextTokens']\n",
            "\n",
            "name: models/aqa\n",
            "description: Model trained to return answers to questions that are grounded in provided sources, along with estimating answerable probability.\n",
            "generation methods:['generateAnswer']\n",
            "\n"
          ]
        }
      ]
    },
    {
      "cell_type": "code",
      "source": [
        "# inspiration https://www.deeplearning.ai/short-courses/pair-programming-llm/"
      ],
      "metadata": {
        "id": "RcKl9g6U8xkH"
      },
      "execution_count": 7,
      "outputs": []
    },
    {
      "cell_type": "code",
      "source": [
        "from google.api_core import retry\n",
        "@retry.Retry()\n",
        "def generate_text(prompt,\n",
        "                  model=model_bison,\n",
        "                  temperature=0.0):\n",
        "    return palm.generate_text(prompt=prompt,\n",
        "                              model=model,\n",
        "                              temperature=temperature)"
      ],
      "metadata": {
        "id": "ySGU67_39KU6"
      },
      "execution_count": 7,
      "outputs": []
    },
    {
      "cell_type": "code",
      "source": [
        "prompt = \"Show me how to iterate across a list in Python.\""
      ],
      "metadata": {
        "id": "ywpF4Y-HYk1d"
      },
      "execution_count": 8,
      "outputs": []
    },
    {
      "cell_type": "code",
      "source": [
        "completion = generate_text(prompt)"
      ],
      "metadata": {
        "id": "tl5GGyf4Ymla"
      },
      "execution_count": 9,
      "outputs": []
    },
    {
      "cell_type": "code",
      "source": [
        "print(completion.result)"
      ],
      "metadata": {
        "colab": {
          "base_uri": "https://localhost:8080/"
        },
        "id": "drCpk6dvYosI",
        "outputId": "72df9823-0012-4e47-c811-fb04409f39f7"
      },
      "execution_count": 10,
      "outputs": [
        {
          "output_type": "stream",
          "name": "stdout",
          "text": [
            "To iterate across a list in Python, you can use the `for` loop. The syntax is as follows:\n",
            "\n",
            "```python\n",
            "for item in list:\n",
            "  # do something with item\n",
            "```\n",
            "\n",
            "For example, the following code prints each item in the list `my_list`:\n",
            "\n",
            "```python\n",
            "my_list = [\"a\", \"b\", \"c\"]\n",
            "\n",
            "for item in my_list:\n",
            "  print(item)\n",
            "```\n",
            "\n",
            "Output:\n",
            "\n",
            "```\n",
            "a\n",
            "b\n",
            "c\n",
            "```\n"
          ]
        }
      ]
    },
    {
      "cell_type": "code",
      "source": [
        "prompt_template = \"\"\"\n",
        "I don't think this code is the best way to do it in Python, can you help me?\n",
        "{question}\n",
        "Please, explain, in detail, how you improve it!\n",
        "\"\"\""
      ],
      "metadata": {
        "id": "iSWtz0xuYqNe"
      },
      "execution_count": 11,
      "outputs": []
    },
    {
      "cell_type": "code",
      "source": [
        "question = \"\"\"\n",
        "def func_x(array)\n",
        "  for i in range(len(array)):\n",
        "      print(array[i])\n",
        "\"\"\""
      ],
      "metadata": {
        "id": "hFgGBidrYsn9"
      },
      "execution_count": 12,
      "outputs": []
    },
    {
      "cell_type": "code",
      "source": [
        "completition = generate_text(\n",
        "    prompt = prompt_template.format(question=question)\n",
        ")"
      ],
      "metadata": {
        "id": "-jpCljdfYtxm"
      },
      "execution_count": 13,
      "outputs": []
    },
    {
      "cell_type": "code",
      "source": [
        "print(completition.result)"
      ],
      "metadata": {
        "colab": {
          "base_uri": "https://localhost:8080/"
        },
        "id": "jVCTXjFPYvOy",
        "outputId": "6596e1a1-0ee4-4cf1-faa3-4898e1cb99bb"
      },
      "execution_count": 14,
      "outputs": [
        {
          "output_type": "stream",
          "name": "stdout",
          "text": [
            "The code you provided is not the most efficient way to print the elements of an array in Python. A more efficient way would be to use the `list` comprehension syntax. This syntax allows you to iterate over an iterable and create a new list from the results. In this case, we can use it to create a new list that contains the elements of the original array, each printed on a new line.\n",
            "\n",
            "```python\n",
            "def func_x(array):\n",
            "  return [print(x) for x in array]\n",
            "```\n",
            "\n",
            "This code is more efficient because it does not need to use a `for` loop to iterate over the array. Instead, it uses the `list` comprehension syntax to create a new list from the results of the iteration. This is a more efficient way to iterate over an iterable because it does not require the creation of a temporary variable.\n",
            "\n",
            "Additionally, the `list` comprehension syntax is more concise than using a `for` loop, which makes it easier to read and understand.\n",
            "\n",
            "Here is an example of how the improved code would be used:\n",
            "\n",
            "```python\n",
            "array = ['a', 'b', 'c']\n",
            "func_x(array)\n",
            "```\n",
            "\n",
            "This code would print the following output:\n",
            "\n",
            "```\n",
            "a\n",
            "b\n",
            "c\n",
            "```\n"
          ]
        }
      ]
    },
    {
      "cell_type": "markdown",
      "source": [
        "## Let's try gemini"
      ],
      "metadata": {
        "id": "jtLI_CFAYyWG"
      }
    },
    {
      "cell_type": "code",
      "source": [
        "import google.generativeai as genai"
      ],
      "metadata": {
        "id": "woOeNO7_YxYB"
      },
      "execution_count": 15,
      "outputs": []
    },
    {
      "cell_type": "code",
      "source": [
        "genai.configure(api_key=GOOGLE_API_KEY)"
      ],
      "metadata": {
        "id": "Nxonj7OmY3nm"
      },
      "execution_count": 16,
      "outputs": []
    },
    {
      "cell_type": "code",
      "source": [
        "# explore the models\n",
        "for m in genai.list_models():\n",
        "    if 'generateContent' in m.supported_generation_methods:\n",
        "        print(m.name)"
      ],
      "metadata": {
        "colab": {
          "base_uri": "https://localhost:8080/",
          "height": 53
        },
        "id": "yA3ZN0jGY4sS",
        "outputId": "873e3b55-feaa-4fcd-83ea-960aaa259594"
      },
      "execution_count": 17,
      "outputs": [
        {
          "output_type": "stream",
          "name": "stdout",
          "text": [
            "models/gemini-pro\n",
            "models/gemini-pro-vision\n"
          ]
        }
      ]
    },
    {
      "cell_type": "code",
      "source": [
        "# Configuracion de LLM\n",
        "\n",
        "generation_config = {\n",
        "    \"temperature\": 0.8,\n",
        "    \"top_p\": 1,\n",
        "    \"top_k\": 1,\n",
        "    \"max_output_tokens\": 1024,\n",
        "}"
      ],
      "metadata": {
        "id": "-5TKZCIKY5-L"
      },
      "execution_count": 18,
      "outputs": []
    },
    {
      "cell_type": "code",
      "source": [
        "model = genai.GenerativeModel('gemini-pro',generation_config=generation_config)"
      ],
      "metadata": {
        "id": "nRZFIMbpY84U"
      },
      "execution_count": 19,
      "outputs": []
    },
    {
      "cell_type": "code",
      "source": [
        "prompt = \"Show me how to iterate across a list in Python.\""
      ],
      "metadata": {
        "id": "GW5QHJl5Y-Qf"
      },
      "execution_count": 20,
      "outputs": []
    },
    {
      "cell_type": "code",
      "source": [
        "completion = model.generate_content(prompt)"
      ],
      "metadata": {
        "id": "8F--OZzHY_6k"
      },
      "execution_count": 21,
      "outputs": []
    },
    {
      "cell_type": "code",
      "source": [
        "print(completion.text)"
      ],
      "metadata": {
        "colab": {
          "base_uri": "https://localhost:8080/"
        },
        "id": "KWC8hQV6ZA5W",
        "outputId": "854a8682-3be9-4d5a-a20d-ae90811cd8aa"
      },
      "execution_count": 22,
      "outputs": [
        {
          "output_type": "stream",
          "name": "stdout",
          "text": [
            "```python\n",
            "# Define a list\n",
            "numbers = [1, 2, 3, 4, 5]\n",
            "\n",
            "# Iterate over the list using a for loop\n",
            "for number in numbers:\n",
            "  # Print each number in the list\n",
            "  print(number)\n",
            "\n",
            "# Iterate over the list using a while loop\n",
            "index = 0\n",
            "while index < len(numbers):\n",
            "  # Print each number in the list\n",
            "  print(numbers[index])\n",
            "  # Increment the index\n",
            "  index += 1\n",
            "```\n",
            "\n",
            "Output:\n",
            "\n",
            "```\n",
            "1\n",
            "2\n",
            "3\n",
            "4\n",
            "5\n",
            "```\n"
          ]
        }
      ]
    },
    {
      "cell_type": "code",
      "source": [
        "prompt_template = \"\"\"\n",
        "I don't think this code is the best way to do it in Python, can you help me?\n",
        "{question}\n",
        "Please, explain, in detail, how you improve it!\n",
        "\"\"\""
      ],
      "metadata": {
        "id": "KSSAiccUZCJb"
      },
      "execution_count": 23,
      "outputs": []
    },
    {
      "cell_type": "code",
      "source": [
        "question = \"\"\"\n",
        "def func_x(array)\n",
        "  for i in range(len(array)):\n",
        "      print(array[i])\n",
        "\"\"\""
      ],
      "metadata": {
        "id": "kaX56WFhZEFv"
      },
      "execution_count": 24,
      "outputs": []
    },
    {
      "cell_type": "code",
      "source": [
        "completition_ = model.generate_content(prompt_template.format(question=question))"
      ],
      "metadata": {
        "id": "dHogCv5qZxJX"
      },
      "execution_count": 25,
      "outputs": []
    },
    {
      "cell_type": "code",
      "source": [
        "print(completition_.text)"
      ],
      "metadata": {
        "colab": {
          "base_uri": "https://localhost:8080/"
        },
        "id": "0FCySBglZyWY",
        "outputId": "0994656b-97be-4cc6-ea36-484c063fecfe"
      },
      "execution_count": 26,
      "outputs": [
        {
          "output_type": "stream",
          "name": "stdout",
          "text": [
            "There are a few ways to improve the code you provided:\n",
            "\n",
            "1. **Use a `for` loop with `in` instead of `range()`.** This is a more concise and Pythonic way to iterate over a list.\n",
            "\n",
            "   ```python\n",
            "   def func_x(array):\n",
            "       for item in array:\n",
            "           print(item)\n",
            "   ```\n",
            "\n",
            "2. **Use a list comprehension**. This is a concise way to create a new list from an existing list.\n",
            "\n",
            "   ```python\n",
            "   def func_x(array):\n",
            "       return [print(item) for item in array]\n",
            "   ```\n",
            "\n",
            "3. **Use the `map()` function**. This function takes a function and a list as arguments, and returns a new list with the function applied to each element of the list.\n",
            "\n",
            "   ```python\n",
            "   def func_x(array):\n",
            "       return list(map(print, array))\n",
            "   ```\n",
            "\n",
            "4. **Use the `forEach()` method**. This method is available on the `list` object, and it takes a function as an argument. The function is then applied to each element of the list.\n",
            "\n",
            "   ```python\n",
            "   def func_x(array):\n",
            "       array.forEach(print)\n",
            "   ```\n",
            "\n",
            "Which approach you choose will depend on your specific needs and preferences. However, the first two approaches are generally considered to be the most Pythonic.\n",
            "\n",
            "Here is a detailed explanation of how each approach works:\n",
            "\n",
            "* **`for` loop with `in`**: This approach is the most straightforward. The `for` loop iterates over each element of the list, and the `print()` function is called for each item.\n",
            "\n",
            "* **List comprehension**: A list comprehension is a concise way to create a new list from an existing list. In this case, the list comprehension is used to create a new list of `None` values, where each `None` value is the result of calling the `print()` function on an item from the original list.\n",
            "\n",
            "* **`map()` function**: The `map()` function takes a function and a list as arguments, and returns a new list with the function applied to each element of the list. In this case, the `map()` function is used to apply the `print()` function to each item in the original list.\n",
            "\n",
            "* **`forEach()` method**: The `forEach()` method is available on the `list` object, and it takes a function as an argument. The function is then applied to each element of the list. In this case, the `forEach()` method is used to apply the `print()` function to each item in the original list.\n",
            "\n",
            "I hope this helps!\n"
          ]
        }
      ]
    }
  ]
}